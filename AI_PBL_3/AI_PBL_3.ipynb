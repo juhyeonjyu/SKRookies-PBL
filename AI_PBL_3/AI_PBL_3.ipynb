{
 "cells": [
  {
   "cell_type": "code",
   "execution_count": 2,
   "id": "88da02b1",
   "metadata": {},
   "outputs": [],
   "source": [
    "import pandas as pd\n",
    "from sklearn.preprocessing import StandardScaler\n",
    "from sklearn.model_selection import train_test_split\n",
    "from sklearn.cluster import KMeans\n",
    "import matplotlib.pyplot as plt\n",
    "from sklearn.metrics import silhouette_score"
   ]
  },
  {
   "cell_type": "code",
   "execution_count": null,
   "id": "6bf9baf1",
   "metadata": {},
   "outputs": [],
   "source": [
    "\"\"\"\n",
    "고객 데이터를 활용한 K-Means 클러스터링 분석\n",
    "최적의 클러스터 수 결정 및 Silhouette Score를 통한 결과 평가\n",
    "\n",
    "고객 데이터를 K-Means 클러스터링을 통해 세분화하고, 그 결과를 평가해야 합니다.\n",
    "\"\"\""
   ]
  },
  {
   "cell_type": "code",
   "execution_count": 4,
   "id": "74b5ad0d",
   "metadata": {},
   "outputs": [],
   "source": [
    "# 데이터 불러오기\n",
    "df = pd.read_csv('20250620_143916_mall_customers.csv')"
   ]
  },
  {
   "cell_type": "code",
   "execution_count": 5,
   "id": "27ddd9cf",
   "metadata": {},
   "outputs": [
    {
     "name": "stdout",
     "output_type": "stream",
     "text": [
      "<class 'pandas.core.frame.DataFrame'>\n",
      "RangeIndex: 200 entries, 0 to 199\n",
      "Data columns (total 5 columns):\n",
      " #   Column                  Non-Null Count  Dtype \n",
      "---  ------                  --------------  ----- \n",
      " 0   CustomerID              200 non-null    int64 \n",
      " 1   Gender                  200 non-null    object\n",
      " 2   Age                     200 non-null    int64 \n",
      " 3   Annual Income (k$)      200 non-null    int64 \n",
      " 4   Spending Score (1-100)  200 non-null    int64 \n",
      "dtypes: int64(4), object(1)\n",
      "memory usage: 7.9+ KB\n"
     ]
    }
   ],
   "source": [
    "# 데이터 정보 확인\n",
    "df.info()"
   ]
  },
  {
   "cell_type": "code",
   "execution_count": 6,
   "id": "ff78ccbd",
   "metadata": {},
   "outputs": [
    {
     "data": {
      "text/html": [
       "<div>\n",
       "<style scoped>\n",
       "    .dataframe tbody tr th:only-of-type {\n",
       "        vertical-align: middle;\n",
       "    }\n",
       "\n",
       "    .dataframe tbody tr th {\n",
       "        vertical-align: top;\n",
       "    }\n",
       "\n",
       "    .dataframe thead th {\n",
       "        text-align: right;\n",
       "    }\n",
       "</style>\n",
       "<table border=\"1\" class=\"dataframe\">\n",
       "  <thead>\n",
       "    <tr style=\"text-align: right;\">\n",
       "      <th></th>\n",
       "      <th>CustomerID</th>\n",
       "      <th>Gender</th>\n",
       "      <th>Age</th>\n",
       "      <th>Annual Income (k$)</th>\n",
       "      <th>Spending Score (1-100)</th>\n",
       "    </tr>\n",
       "  </thead>\n",
       "  <tbody>\n",
       "    <tr>\n",
       "      <th>0</th>\n",
       "      <td>1</td>\n",
       "      <td>Male</td>\n",
       "      <td>19</td>\n",
       "      <td>15</td>\n",
       "      <td>39</td>\n",
       "    </tr>\n",
       "    <tr>\n",
       "      <th>1</th>\n",
       "      <td>2</td>\n",
       "      <td>Male</td>\n",
       "      <td>21</td>\n",
       "      <td>15</td>\n",
       "      <td>81</td>\n",
       "    </tr>\n",
       "    <tr>\n",
       "      <th>2</th>\n",
       "      <td>3</td>\n",
       "      <td>Female</td>\n",
       "      <td>20</td>\n",
       "      <td>16</td>\n",
       "      <td>6</td>\n",
       "    </tr>\n",
       "    <tr>\n",
       "      <th>3</th>\n",
       "      <td>4</td>\n",
       "      <td>Female</td>\n",
       "      <td>23</td>\n",
       "      <td>16</td>\n",
       "      <td>77</td>\n",
       "    </tr>\n",
       "    <tr>\n",
       "      <th>4</th>\n",
       "      <td>5</td>\n",
       "      <td>Female</td>\n",
       "      <td>31</td>\n",
       "      <td>17</td>\n",
       "      <td>40</td>\n",
       "    </tr>\n",
       "  </tbody>\n",
       "</table>\n",
       "</div>"
      ],
      "text/plain": [
       "   CustomerID  Gender  Age  Annual Income (k$)  Spending Score (1-100)\n",
       "0           1    Male   19                  15                      39\n",
       "1           2    Male   21                  15                      81\n",
       "2           3  Female   20                  16                       6\n",
       "3           4  Female   23                  16                      77\n",
       "4           5  Female   31                  17                      40"
      ]
     },
     "execution_count": 6,
     "metadata": {},
     "output_type": "execute_result"
    }
   ],
   "source": [
    "# 데이터 구조 확인\n",
    "df.head()"
   ]
  },
  {
   "cell_type": "code",
   "execution_count": 7,
   "id": "ec0f6d6e",
   "metadata": {},
   "outputs": [
    {
     "name": "stdout",
     "output_type": "stream",
     "text": [
      "     Annual Income (k$)  Spending Score (1-100)\n",
      "0                    15                      39\n",
      "1                    15                      81\n",
      "2                    16                       6\n",
      "3                    16                      77\n",
      "4                    17                      40\n",
      "..                  ...                     ...\n",
      "195                 120                      79\n",
      "196                 126                      28\n",
      "197                 126                      74\n",
      "198                 137                      18\n",
      "199                 137                      83\n",
      "\n",
      "[200 rows x 2 columns]\n"
     ]
    }
   ],
   "source": [
    "# 전처리\n",
    "# Annual Income (k$), Spending Score (1-100) 열만 사용\n",
    "df = df[['Annual Income (k$)', 'Spending Score (1-100)']]\n",
    "print(df)"
   ]
  },
  {
   "cell_type": "code",
   "execution_count": null,
   "id": "c78b81b9",
   "metadata": {},
   "outputs": [],
   "source": [
    "# 표준화\n",
    "# 다양한 특성을 같은 기준에서 작동하도록 단위와 범위를 맞춰주는 작업\n",
    "scaler = StandardScaler()\n",
    "scaled = scaler.fit_transform(df)"
   ]
  },
  {
   "cell_type": "code",
   "execution_count": 9,
   "id": "73bc0385",
   "metadata": {},
   "outputs": [],
   "source": [
    "# 학습 및 테스트 데이터 분리 : 8:2 비율\n",
    "X_train, X_test = train_test_split(scaled, test_size=0.2, random_state=42)"
   ]
  },
  {
   "cell_type": "code",
   "execution_count": 26,
   "id": "3d7d8efe",
   "metadata": {},
   "outputs": [
    {
     "data": {
      "image/png": "[encoded data removed]",
      "text/plain": [
       "<Figure size 640x480 with 1 Axes>"
      ]
     },
     "metadata": {},
     "output_type": "display_data"
    }
   ],
   "source": [
    "# 모델 학습\n",
    "# 엘보우 기법 => 최적의 K 탐색\n",
    "inertias = []       # 응집도\n",
    "for k in range(1, 11) :\n",
    "    kmeans = KMeans(n_clusters=k, random_state=42)\n",
    "    kmeans.fit(X_train)\n",
    "    inertias.append(kmeans.inertia_)\n",
    "\n",
    "# 엘보우 기법 시각화\n",
    "# 최적 K 결정 => 5 => 감소 폭이 완만한 지점\n",
    "plt.plot(range(1, 11), inertias, marker='o')\n",
    "plt.rcParams['font.family'] = 'Malgun Gothic'\n",
    "plt.title('엘보우 기법을 통한 최적 K 결정')\n",
    "plt.xlabel('클러스터 수 (K)')\n",
    "plt.ylabel('응집도')\n",
    "plt.show()"
   ]
  },
  {
   "cell_type": "code",
   "execution_count": null,
   "id": "eea7f05b",
   "metadata": {},
   "outputs": [],
   "source": [
    "# 엘보우 기법 적용된 클러스터링 모델 학습\n",
    "kmeans = KMeans(n_clusters=5, random_state=42)\n",
    "y_train = kmeans.fit_predict(X_train)\n",
    "y_test = kmeans.predict(X_test)"
   ]
  },
  {
   "cell_type": "code",
   "execution_count": null,
   "id": "12874f97",
   "metadata": {},
   "outputs": [
    {
     "name": "stdout",
     "output_type": "stream",
     "text": [
      "Train Silhouette Score :  0.5509842461121202\n",
      "Test Silhouette Score :  0.566618490320996\n"
     ]
    }
   ],
   "source": [
    "# 평가 및 시각화\n",
    "# Silhouette Score 계산\n",
    "print('Train Silhouette Score : ', silhouette_score(X_train, y_train))\n",
    "print('Test Silhouette Score : ', silhouette_score(X_test, y_test))\n",
    "# 0.5 이상 : 군집화 상태 괜찮은 편"
   ]
  },
  {
   "cell_type": "code",
   "execution_count": null,
   "id": "86ed46f6",
   "metadata": {},
   "outputs": [
    {
     "data": {
      "image/png": "[encoded data removed]",
      "text/plain": [
       "<Figure size 800x500 with 1 Axes>"
      ]
     },
     "metadata": {},
     "output_type": "display_data"
    }
   ],
   "source": [
    "# 클러스터 결과 시각화\n",
    "plt.figure(figsize=(8, 5))  # 그래프 전체 크기 : 가로 8인치, 세로 5인치\n",
    "plt.scatter(X_test[:, 0], X_test[:, 1], c=y_test, cmap='viridis')   # X_test[:, 0] : 모든 행, 0번째 열\n",
    "centers = kmeans.cluster_centers_   # 클러스터 중심 좌표 저장\n",
    "plt.scatter(centers[:, 0], centers[:, 1], c='red', marker='X', s=200, label='Cluster Centers')  # 클러스터 중심 좌표 X 마커 시각화\n",
    "plt.rcParams['font.family'] = 'Malgun Gothic'\n",
    "plt.rcParams['axes.unicode_minus'] = False  # 마이너스(-) 기호 깨짐 방지\n",
    "plt.title('테스트 데이터 클러스터링 결과')\n",
    "plt.xlabel('표준화된 연 수입')\n",
    "plt.ylabel('표준화된 소비 점수')\n",
    "plt.legend()    # 범례 추가\n",
    "plt.grid()\n",
    "plt.show()"
   ]
  },
  {
   "cell_type": "code",
   "execution_count": null,
   "id": "5b4a4330",
   "metadata": {},
   "outputs": [
    {
     "name": "stdout",
     "output_type": "stream",
     "text": [
      "클러스터별 평균 수입 및 소비 점수 : \n",
      "         Annual Income (k$)  Spending Score (1-100)\n",
      "cluster                                            \n",
      "0                 55.296296               49.518519\n",
      "1                 26.304348               20.913043\n",
      "2                 25.727273               79.363636\n",
      "3                 86.538462               82.128205\n",
      "4                 88.200000               17.114286\n"
     ]
    }
   ],
   "source": [
    "# 클러스터별 특성 요약\n",
    "# 원본 데이터 불러오기\n",
    "original = pd.read_csv('20250620_143916_mall_customers.csv')\n",
    "# 원본 데이터 KMeans 적용 => 각 고객이 몇 번 클러스터에 속하는지 예측\n",
    "# 새로운 열 추가 => 고객 한 명 한 명이 자신이 속한 클러스터를 갖게 됨\n",
    "# 표준화 하는 이유 : KMeans 모델이 표준화된 데이터로 학습했으니까\n",
    "original['cluster'] = kmeans.predict(scaler.transform(original[['Annual Income (k$)', 'Spending Score (1-100)']]))\n",
    "cluster_means = original.groupby('cluster')[['Annual Income (k$)', 'Spending Score (1-100)']].mean()\n",
    "\n",
    "print('클러스터별 평균 수입 및 소비 점수 : ')\n",
    "print(cluster_means)\n",
    "# 클러스터별 의미를 찾아내기 위한 과정"
   ]
  },
  {
   "cell_type": "code",
   "execution_count": null,
   "id": "14972b67",
   "metadata": {},
   "outputs": [
    {
     "name": "stdout",
     "output_type": "stream",
     "text": [
      "클러스터 해석 : \n",
      " - 클러스터 0: 중소득 / 중소비\n",
      " - 클러스터 1: 저소득 / 저소비\n",
      " - 클러스터 2: 저소득 / 고소비\n",
      " - 클러스터 3: 고소득 / 고소비\n",
      " - 클러스터 4: 고소득 / 저소비\n"
     ]
    }
   ],
   "source": [
    "# 해석\n",
    "# 이 클러스터는 어떤 유형의 고객인가? 파악 가능\n",
    "print('클러스터 해석 : ')\n",
    "for i, row in cluster_means.iterrows():\n",
    "    income = row['Annual Income (k$)']\n",
    "    score = row['Spending Score (1-100)']\n",
    "\n",
    "    income_label = '고소득' if income > 70 else '중소득' if income > 40 else '저소득'\n",
    "    score_label = '고소비' if score > 60 else '중소비' if score > 40 else '저소비'\n",
    "    \n",
    "    print(f\" - 클러스터 {i}: {income_label} / {score_label}\")"
   ]
  }
 ],
 "metadata": {
  "kernelspec": {
   "display_name": "Python 3",
   "language": "python",
   "name": "python3"
  },
  "language_info": {
   "codemirror_mode": {
    "name": "ipython",
    "version": 3
   },
   "file_extension": ".py",
   "mimetype": "text/x-python",
   "name": "python",
   "nbconvert_exporter": "python",
   "pygments_lexer": "ipython3",
   "version": "3.13.4"
  }
 },
 "nbformat": 4,
 "nbformat_minor": 5
}
