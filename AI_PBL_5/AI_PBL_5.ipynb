{
 "cells": [
  {
   "cell_type": "code",
   "execution_count": null,
   "id": "d0add6d6",
   "metadata": {},
   "outputs": [],
   "source": [
    "import pandas as pd\n",
    "import tensorflow as tf\n",
    "from tensorflow.keras import layers, models, callbacks\n",
    "from sklearn.preprocessing import StandardScaler\n",
    "from sklearn.model_selection import train_test_split\n",
    "from sklearn.metrics import classification_report, confusion_matrix"
   ]
  },
  {
   "cell_type": "code",
   "execution_count": null,
   "id": "89bdaabf",
   "metadata": {},
   "outputs": [],
   "source": [
    "\"\"\"\n",
    "고객 이탈 여부 예측을 위한 딥러닝 분류 모델 설계\n",
    "클래스 불균형을 고려한 MLP 기반 이진 분류 모델 구현\n",
    "\n",
    "고객 데이터를 기반으로 이탈 여부를 예측하는 딥러닝 분류 모델을 설계해야 합니다.\n",
    "\"\"\""
   ]
  },
  {
   "cell_type": "code",
   "execution_count": 26,
   "id": "f3dda7dc",
   "metadata": {},
   "outputs": [],
   "source": [
    "# 데이터 불러오기\n",
    "df = pd.read_csv('customer_data_balanced.csv')"
   ]
  },
  {
   "cell_type": "code",
   "execution_count": 27,
   "id": "cd61e412",
   "metadata": {},
   "outputs": [
    {
     "data": {
      "text/html": [
       "<div>\n",
       "<style scoped>\n",
       "    .dataframe tbody tr th:only-of-type {\n",
       "        vertical-align: middle;\n",
       "    }\n",
       "\n",
       "    .dataframe tbody tr th {\n",
       "        vertical-align: top;\n",
       "    }\n",
       "\n",
       "    .dataframe thead th {\n",
       "        text-align: right;\n",
       "    }\n",
       "</style>\n",
       "<table border=\"1\" class=\"dataframe\">\n",
       "  <thead>\n",
       "    <tr style=\"text-align: right;\">\n",
       "      <th></th>\n",
       "      <th>Age</th>\n",
       "      <th>Tenure</th>\n",
       "      <th>MonthlySpending_KRW</th>\n",
       "      <th>ContractType</th>\n",
       "      <th>CustomerServiceCalls</th>\n",
       "      <th>IsChurn</th>\n",
       "    </tr>\n",
       "  </thead>\n",
       "  <tbody>\n",
       "    <tr>\n",
       "      <th>0</th>\n",
       "      <td>56</td>\n",
       "      <td>29</td>\n",
       "      <td>249010</td>\n",
       "      <td>1</td>\n",
       "      <td>6</td>\n",
       "      <td>0</td>\n",
       "    </tr>\n",
       "    <tr>\n",
       "      <th>1</th>\n",
       "      <td>69</td>\n",
       "      <td>44</td>\n",
       "      <td>54542</td>\n",
       "      <td>1</td>\n",
       "      <td>6</td>\n",
       "      <td>0</td>\n",
       "    </tr>\n",
       "    <tr>\n",
       "      <th>2</th>\n",
       "      <td>46</td>\n",
       "      <td>53</td>\n",
       "      <td>30651</td>\n",
       "      <td>1</td>\n",
       "      <td>1</td>\n",
       "      <td>0</td>\n",
       "    </tr>\n",
       "    <tr>\n",
       "      <th>3</th>\n",
       "      <td>32</td>\n",
       "      <td>24</td>\n",
       "      <td>119239</td>\n",
       "      <td>0</td>\n",
       "      <td>5</td>\n",
       "      <td>1</td>\n",
       "    </tr>\n",
       "    <tr>\n",
       "      <th>4</th>\n",
       "      <td>60</td>\n",
       "      <td>58</td>\n",
       "      <td>361075</td>\n",
       "      <td>1</td>\n",
       "      <td>1</td>\n",
       "      <td>0</td>\n",
       "    </tr>\n",
       "  </tbody>\n",
       "</table>\n",
       "</div>"
      ],
      "text/plain": [
       "   Age  Tenure  MonthlySpending_KRW  ContractType  CustomerServiceCalls  \\\n",
       "0   56      29               249010             1                     6   \n",
       "1   69      44                54542             1                     6   \n",
       "2   46      53                30651             1                     1   \n",
       "3   32      24               119239             0                     5   \n",
       "4   60      58               361075             1                     1   \n",
       "\n",
       "   IsChurn  \n",
       "0        0  \n",
       "1        0  \n",
       "2        0  \n",
       "3        1  \n",
       "4        0  "
      ]
     },
     "execution_count": 27,
     "metadata": {},
     "output_type": "execute_result"
    }
   ],
   "source": [
    "# 데이터 확인\n",
    "df.head()"
   ]
  },
  {
   "cell_type": "code",
   "execution_count": 28,
   "id": "af4bb6a6",
   "metadata": {},
   "outputs": [],
   "source": [
    "# ContractType 원-핫 인코딩\n",
    "df = pd.get_dummies(df, columns=['ContractType'])"
   ]
  },
  {
   "cell_type": "code",
   "execution_count": 29,
   "id": "10dd73be",
   "metadata": {},
   "outputs": [],
   "source": [
    "# Feature, Target 정의\n",
    "X = df.drop('IsChurn', axis=1)\n",
    "y = df['IsChurn']"
   ]
  },
  {
   "cell_type": "code",
   "execution_count": 30,
   "id": "3ad902f0",
   "metadata": {},
   "outputs": [],
   "source": [
    "# 정규화\n",
    "scaler = StandardScaler()\n",
    "X_scaled = scaler.fit_transform(X)"
   ]
  },
  {
   "cell_type": "code",
   "execution_count": 31,
   "id": "65f6a59a",
   "metadata": {},
   "outputs": [],
   "source": [
    "# 학습 및 테스트 데이터 설정\n",
    "X_train, X_test, y_train, y_test = train_test_split(X_scaled, y, test_size=0.2, random_state=42)"
   ]
  },
  {
   "cell_type": "code",
   "execution_count": 32,
   "id": "213731bc",
   "metadata": {},
   "outputs": [
    {
     "name": "stderr",
     "output_type": "stream",
     "text": [
      "c:\\Users\\User\\AppData\\Local\\Programs\\Python\\Python39\\lib\\site-packages\\keras\\src\\layers\\core\\dense.py:93: UserWarning: Do not pass an `input_shape`/`input_dim` argument to a layer. When using Sequential models, prefer using an `Input(shape)` object as the first layer in the model instead.\n",
      "  super().__init__(activity_regularizer=activity_regularizer, **kwargs)\n"
     ]
    }
   ],
   "source": [
    "# 모델 정의\n",
    "model = models.Sequential([\n",
    "    # 뉴런 64개\n",
    "    # input_shape : 처음 입력 받는 층이면 반드시 입력 데이터의 형태(shape)를 명시해야 함\n",
    "    # X_train.shape[1] : 열의 수\n",
    "    layers.Dense(64, activation='relu', input_shape=(X_train.shape[1],)),   # 입력 데이터의 차원 : 1차원 튜플\n",
    "    layers.Dropout(0.3),   \n",
    "    layers.Dense(32, activation='relu'),\n",
    "    layers.Dropout(0.3),\n",
    "    layers.Dense(1, activation='sigmoid') # 이진 분류\n",
    "])\n",
    "\n",
    "model.compile(optimizer='adam',             # 최적화 알고리즘\n",
    "              loss='binary_crossentropy',   # 손실함수 : 이진 분류에서 많이 씀\n",
    "              metrics=['accuracy'])         # 모델 성능 평가 기준"
   ]
  },
  {
   "cell_type": "code",
   "execution_count": 33,
   "id": "28a329e1",
   "metadata": {},
   "outputs": [
    {
     "name": "stdout",
     "output_type": "stream",
     "text": [
      "Epoch 1/50\n",
      "\u001b[1m40/40\u001b[0m \u001b[32m━━━━━━━━━━━━━━━━━━━━\u001b[0m\u001b[37m\u001b[0m \u001b[1m1s\u001b[0m 4ms/step - accuracy: 0.5445 - loss: 0.9745 - val_accuracy: 0.4219 - val_loss: 0.7001\n",
      "Epoch 2/50\n",
      "\u001b[1m40/40\u001b[0m \u001b[32m━━━━━━━━━━━━━━━━━━━━\u001b[0m\u001b[37m\u001b[0m \u001b[1m0s\u001b[0m 3ms/step - accuracy: 0.5047 - loss: 0.9366 - val_accuracy: 0.5750 - val_loss: 0.6758\n",
      "Epoch 3/50\n",
      "\u001b[1m40/40\u001b[0m \u001b[32m━━━━━━━━━━━━━━━━━━━━\u001b[0m\u001b[37m\u001b[0m \u001b[1m0s\u001b[0m 2ms/step - accuracy: 0.5352 - loss: 0.9022 - val_accuracy: 0.5750 - val_loss: 0.6700\n",
      "Epoch 4/50\n",
      "\u001b[1m40/40\u001b[0m \u001b[32m━━━━━━━━━━━━━━━━━━━━\u001b[0m\u001b[37m\u001b[0m \u001b[1m0s\u001b[0m 2ms/step - accuracy: 0.5540 - loss: 0.8898 - val_accuracy: 0.6250 - val_loss: 0.6543\n",
      "Epoch 5/50\n",
      "\u001b[1m40/40\u001b[0m \u001b[32m━━━━━━━━━━━━━━━━━━━━\u001b[0m\u001b[37m\u001b[0m \u001b[1m0s\u001b[0m 2ms/step - accuracy: 0.5687 - loss: 0.8928 - val_accuracy: 0.6156 - val_loss: 0.6536\n",
      "Epoch 6/50\n",
      "\u001b[1m40/40\u001b[0m \u001b[32m━━━━━━━━━━━━━━━━━━━━\u001b[0m\u001b[37m\u001b[0m \u001b[1m0s\u001b[0m 2ms/step - accuracy: 0.5740 - loss: 0.8875 - val_accuracy: 0.6062 - val_loss: 0.6601\n",
      "Epoch 7/50\n",
      "\u001b[1m40/40\u001b[0m \u001b[32m━━━━━━━━━━━━━━━━━━━━\u001b[0m\u001b[37m\u001b[0m \u001b[1m0s\u001b[0m 3ms/step - accuracy: 0.5830 - loss: 0.8799 - val_accuracy: 0.6125 - val_loss: 0.6508\n",
      "Epoch 8/50\n",
      "\u001b[1m40/40\u001b[0m \u001b[32m━━━━━━━━━━━━━━━━━━━━\u001b[0m\u001b[37m\u001b[0m \u001b[1m0s\u001b[0m 3ms/step - accuracy: 0.5679 - loss: 0.8948 - val_accuracy: 0.6031 - val_loss: 0.6590\n",
      "Epoch 9/50\n",
      "\u001b[1m40/40\u001b[0m \u001b[32m━━━━━━━━━━━━━━━━━━━━\u001b[0m\u001b[37m\u001b[0m \u001b[1m0s\u001b[0m 2ms/step - accuracy: 0.5547 - loss: 0.8830 - val_accuracy: 0.5969 - val_loss: 0.6581\n",
      "Epoch 10/50\n",
      "\u001b[1m40/40\u001b[0m \u001b[32m━━━━━━━━━━━━━━━━━━━━\u001b[0m\u001b[37m\u001b[0m \u001b[1m0s\u001b[0m 2ms/step - accuracy: 0.5989 - loss: 0.8731 - val_accuracy: 0.6000 - val_loss: 0.6509\n",
      "Epoch 11/50\n",
      "\u001b[1m40/40\u001b[0m \u001b[32m━━━━━━━━━━━━━━━━━━━━\u001b[0m\u001b[37m\u001b[0m \u001b[1m0s\u001b[0m 3ms/step - accuracy: 0.5952 - loss: 0.8839 - val_accuracy: 0.5938 - val_loss: 0.6561\n",
      "Epoch 12/50\n",
      "\u001b[1m40/40\u001b[0m \u001b[32m━━━━━━━━━━━━━━━━━━━━\u001b[0m\u001b[37m\u001b[0m \u001b[1m0s\u001b[0m 2ms/step - accuracy: 0.6047 - loss: 0.8601 - val_accuracy: 0.6250 - val_loss: 0.6460\n",
      "Epoch 13/50\n",
      "\u001b[1m40/40\u001b[0m \u001b[32m━━━━━━━━━━━━━━━━━━━━\u001b[0m\u001b[37m\u001b[0m \u001b[1m0s\u001b[0m 2ms/step - accuracy: 0.6218 - loss: 0.8594 - val_accuracy: 0.6187 - val_loss: 0.6396\n",
      "Epoch 14/50\n",
      "\u001b[1m40/40\u001b[0m \u001b[32m━━━━━━━━━━━━━━━━━━━━\u001b[0m\u001b[37m\u001b[0m \u001b[1m0s\u001b[0m 3ms/step - accuracy: 0.6377 - loss: 0.8523 - val_accuracy: 0.6031 - val_loss: 0.6455\n",
      "Epoch 15/50\n",
      "\u001b[1m40/40\u001b[0m \u001b[32m━━━━━━━━━━━━━━━━━━━━\u001b[0m\u001b[37m\u001b[0m \u001b[1m0s\u001b[0m 3ms/step - accuracy: 0.6273 - loss: 0.8665 - val_accuracy: 0.5938 - val_loss: 0.6493\n",
      "Epoch 16/50\n",
      "\u001b[1m40/40\u001b[0m \u001b[32m━━━━━━━━━━━━━━━━━━━━\u001b[0m\u001b[37m\u001b[0m \u001b[1m0s\u001b[0m 2ms/step - accuracy: 0.6180 - loss: 0.8664 - val_accuracy: 0.6219 - val_loss: 0.6429\n",
      "Epoch 17/50\n",
      "\u001b[1m40/40\u001b[0m \u001b[32m━━━━━━━━━━━━━━━━━━━━\u001b[0m\u001b[37m\u001b[0m \u001b[1m0s\u001b[0m 2ms/step - accuracy: 0.6335 - loss: 0.8387 - val_accuracy: 0.6094 - val_loss: 0.6422\n",
      "Epoch 18/50\n",
      "\u001b[1m40/40\u001b[0m \u001b[32m━━━━━━━━━━━━━━━━━━━━\u001b[0m\u001b[37m\u001b[0m \u001b[1m0s\u001b[0m 2ms/step - accuracy: 0.6319 - loss: 0.8543 - val_accuracy: 0.6187 - val_loss: 0.6397\n"
     ]
    }
   ],
   "source": [
    "# 클래스 가중치\n",
    "# 이탈 고객을 2배 더 중요하게 학습\n",
    "class_weights = {0: 1.0, 1: 2.0}\n",
    "\n",
    "# EarlyStopping 콜백 정의\n",
    "# monitor : 검증 손실이\n",
    "# patience : 5번 연속 개선되지 않으면\n",
    "# restore_best_weights : 가장 성능 좋았던 가중치로 복원\n",
    "# 과적합 방지하고 학습시간 절약\n",
    "early_stop = callbacks.EarlyStopping(monitor='val_loss', patience=5, restore_best_weights=True)\n",
    "\n",
    "# 모델 학습\n",
    "history = model.fit(X_train, y_train,\n",
    "                    epochs=50,                      \n",
    "                    batch_size=32,                  # 데이터 32개씩 나눠서 한 번에 학습\n",
    "                    validation_split=0.2,           # 훈련 데이터의 20%를 검증용으로 자동 분리\n",
    "                    class_weight=class_weights,     # 클래스 가중치\n",
    "                    callbacks=[early_stop],         # 학습 성능 보고 자동 종료\n",
    "                    verbose=1)                      # 모델이 학습하면서 진행 상황을 얼마나 상세하게 보여줄지 조절하는 옵션"
   ]
  },
  {
   "cell_type": "code",
   "execution_count": 36,
   "id": "6d59fac6",
   "metadata": {},
   "outputs": [
    {
     "name": "stdout",
     "output_type": "stream",
     "text": [
      "\u001b[1m13/13\u001b[0m \u001b[32m━━━━━━━━━━━━━━━━━━━━\u001b[0m\u001b[37m\u001b[0m \u001b[1m0s\u001b[0m 2ms/step \n",
      "Confusion Matrix : \n",
      " [[157  99]\n",
      " [ 59  85]]\n",
      "\n",
      "Classification Report : \n",
      "               precision    recall  f1-score   support\n",
      "\n",
      "           0       0.73      0.61      0.67       256\n",
      "           1       0.46      0.59      0.52       144\n",
      "\n",
      "    accuracy                           0.60       400\n",
      "   macro avg       0.59      0.60      0.59       400\n",
      "weighted avg       0.63      0.60      0.61       400\n",
      "\n"
     ]
    }
   ],
   "source": [
    "# 예측\n",
    "y_pred_prob = model.predict(X_test)\n",
    "y_pred = (y_pred_prob > 0.5).astype(int)\n",
    "\n",
    "# 평가 지표 출력\n",
    "print('Confusion Matrix : \\n', confusion_matrix(y_test, y_pred))\n",
    "print('\\nClassification Report : \\n', classification_report(y_test, y_pred))"
   ]
  },
  {
   "cell_type": "markdown",
   "id": "04339e10",
   "metadata": {},
   "source": [
    "### 모델 성능 요약 보고서\n",
    "1. Confusion Matrix\n",
    "- 실제 이탈 고객이 아님에도 불구하고 이탈로 잘못 분류한 사례 99건 있음 ➡️ 불필요한 마케팅 비용 가능성 있음\n",
    "- 실제 이탈 고객 59명 놓침\n",
    "\n",
    "2. Classification Report\n",
    "- 이탈 고객 예측의 정밀도가 낮은 편 ➡️ 오탐 높은 편\n",
    "- 실제 이탈 고객의 59% 탐지 ➡️ 이탈 감지 성능 보통\n",
    "- 이탈 고객 F1 점수 낮은 편\n",
    "\n",
    "**이탈 고객을 일정 수준 감지할 수 있는 재현율(Recall)을 확보했으나 정밀도(Precision)가 낮아 개선 필요함**"
   ]
  }
 ],
 "metadata": {
  "kernelspec": {
   "display_name": "Python 3",
   "language": "python",
   "name": "python3"
  },
  "language_info": {
   "codemirror_mode": {
    "name": "ipython",
    "version": 3
   },
   "file_extension": ".py",
   "mimetype": "text/x-python",
   "name": "python",
   "nbconvert_exporter": "python",
   "pygments_lexer": "ipython3",
   "version": "3.9.13"
  }
 },
 "nbformat": 4,
 "nbformat_minor": 5
}
