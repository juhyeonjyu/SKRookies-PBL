{
 "cells": [
  {
   "cell_type": "code",
   "execution_count": 1,
   "id": "78e93710",
   "metadata": {},
   "outputs": [],
   "source": [
    "class StudentScores :\n",
    "\n",
    "    \"\"\"\n",
    "    학생 평균 성적 관리\n",
    "    학생 성적 관리 프로그램 : Python OOP로 데이터 처리하기\n",
    "    \"\"\"\n",
    "\n",
    "    # 생성자\n",
    "    # scores_korean.txt 파일을 읽어 학생 정보 딕셔너리에 저장\n",
    "    def __init__ (self):\n",
    "        try :\n",
    "            students = {}\n",
    "            with open(\"scores_korean.txt\", 'r', encoding='UTF8') as f :\n",
    "                lines = f. readlines()\n",
    "            for line in lines :\n",
    "                name, score = line.split(',')\n",
    "                students[name] = int(score.strip('\\n'))\n",
    "            self.students = students\n",
    "        except :\n",
    "            print('Error occurred.')\n",
    "        self.average = None\n",
    "        \n",
    "    # 평균 점수 계산 메소드\n",
    "    def calculate_average(self) :\n",
    "        total = 0\n",
    "        if self.average is None :\n",
    "            total = sum(self.students.values())\n",
    "            self.average = total / len(self.students)\n",
    "        return self.average\n",
    "    \n",
    "    # 평균 점수 이상 학생 리스트 반환 메소드\n",
    "    def get_above_average(self) :\n",
    "        avg = self.calculate_average()\n",
    "        above_st = []\n",
    "        for name, score in self.students.items() :\n",
    "            if score > avg :\n",
    "                above_st.append(name)\n",
    "        return above_st\n",
    "\n",
    "    # 평균 점수 이하 학생 리스트 별도 저장 메소드\n",
    "    # below_average_Korean.txt 파일에 저장\n",
    "    def save_below_average(self) :\n",
    "        temp = []\n",
    "        avg = self.calculate_average()\n",
    "        for name, score in self.students.items() :\n",
    "            if score < avg :\n",
    "                temp.append(name)\n",
    "        with open(\"below_average_Korean.txt\", 'w') as f :\n",
    "            for name in temp :\n",
    "                f.write(name + '\\n')\n",
    "\n",
    "    # 평균 점수 이하 학생 리스트 파일 저장 메소드 호출\n",
    "    # 평균 점수 및 평균 점수 이상 학생 리스트 출력 메소드\n",
    "    def print_summary(self) :\n",
    "        self.save_below_average()\n",
    "        print('평균 점수 : ', self.calculate_average())\n",
    "        print('평균 점수 이상 학생 목록 : ', self.get_above_average())\n"
   ]
  },
  {
   "cell_type": "code",
   "execution_count": 2,
   "id": "530a2414",
   "metadata": {},
   "outputs": [
    {
     "name": "stdout",
     "output_type": "stream",
     "text": [
      "평균 점수 :  86.6\n",
      "평균 점수 이상 학생 목록 :  ['박영희', '최다은', '강은지']\n"
     ]
    }
   ],
   "source": [
    "test = StudentScores()\n",
    "test.print_summary()"
   ]
  }
 ],
 "metadata": {
  "kernelspec": {
   "display_name": "Python 3",
   "language": "python",
   "name": "python3"
  },
  "language_info": {
   "codemirror_mode": {
    "name": "ipython",
    "version": 3
   },
   "file_extension": ".py",
   "mimetype": "text/x-python",
   "name": "python",
   "nbconvert_exporter": "python",
   "pygments_lexer": "ipython3",
   "version": "3.13.4"
  }
 },
 "nbformat": 4,
 "nbformat_minor": 5
}
